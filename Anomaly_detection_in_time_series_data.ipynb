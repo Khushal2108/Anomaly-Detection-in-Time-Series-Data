{
  "nbformat": 4,
  "nbformat_minor": 0,
  "metadata": {
    "colab": {
      "provenance": []
    },
    "kernelspec": {
      "name": "python3",
      "display_name": "Python 3"
    },
    "language_info": {
      "name": "python"
    }
  },
  "cells": [
    {
      "cell_type": "code",
      "execution_count": 1,
      "metadata": {
        "id": "OjUQqJVa5wpw"
      },
      "outputs": [],
      "source": [
        "\n",
        "import pandas as pd\n",
        "import tensorflow as tf\n",
        "from keras.layers import Input, Dense\n",
        "from keras.models import Model\n",
        "from sklearn.metrics import precision_recall_fscore_support\n",
        "import matplotlib.pyplot as plt"
      ]
    },
    {
      "cell_type": "code",
      "source": [
        "data = pd.read_csv(\n",
        "    'https://raw.githubusercontent.com/numenta'\n",
        "    '/NAB/master/data/realKnownCause/ambient'\n",
        "    '_temperature_system_failure.csv')\n",
        "\n",
        "# Exclude datetime column\n",
        "data_values = data.drop('timestamp',\n",
        "                        axis=1).values\n",
        "\n",
        "# Convert data to float type\n",
        "data_values = data_values.astype('float32')\n",
        "\n",
        "# Create new dataframe with converted values\n",
        "data_converted = pd.DataFrame(data_values,\n",
        "                              columns=data.columns[1:])\n",
        "\n",
        "# Add back datetime column\n",
        "data_converted.insert(0, 'timestamp',\n",
        "                      data['timestamp'])"
      ],
      "metadata": {
        "id": "_fm7D21v6Rxh"
      },
      "execution_count": 2,
      "outputs": []
    },
    {
      "cell_type": "code",
      "source": [
        "\n",
        "data_converted = data_converted.dropna()"
      ],
      "metadata": {
        "id": "oSdgjn0W6axq"
      },
      "execution_count": 3,
      "outputs": []
    },
    {
      "cell_type": "code",
      "source": [
        "#Anomaly Detection using Autoencoder\n",
        "# It is a type of neural network that learns to compress and then reconstruct the original data, allowing it to identify anomalies in the data."
      ],
      "metadata": {
        "id": "iTWxLUDb6hvj"
      },
      "execution_count": 4,
      "outputs": []
    },
    {
      "cell_type": "code",
      "source": [
        "# Exclude datetime column again\n",
        "data_tensor = tf.convert_to_tensor(data_converted.drop(\n",
        "    'timestamp', axis=1).values, dtype=tf.float32)\n",
        "\n",
        "# Define the autoencoder model\n",
        "input_dim = data_converted.shape[1] - 1\n",
        "encoding_dim = 10\n",
        "\n",
        "input_layer = Input(shape=(input_dim,))\n",
        "encoder = Dense(encoding_dim, activation='relu')(input_layer)\n",
        "decoder = Dense(input_dim, activation='relu')(encoder)\n",
        "autoencoder = Model(inputs=input_layer, outputs=decoder)\n",
        "\n",
        "# Compile and fit the model\n",
        "autoencoder.compile(optimizer='adam', loss='mse')\n",
        "autoencoder.fit(data_tensor, data_tensor, epochs=50,\n",
        "                batch_size=32, shuffle=True)\n",
        "\n",
        "# Calculate the reconstruction error for each data point\n",
        "reconstructions = autoencoder.predict(data_tensor)\n",
        "mse = tf.reduce_mean(tf.square(data_tensor - reconstructions),\n",
        "                     axis=1)\n",
        "anomaly_scores = pd.Series(mse.numpy(), name='anomaly_scores')\n",
        "anomaly_scores.index = data_converted.index\n",
        "\n",
        "\n",
        "threshold = anomaly_scores.quantile(0.99)\n",
        "anomalous = anomaly_scores > threshold\n",
        "binary_labels = anomalous.astype(int)\n",
        "precision, recall,\\\n",
        "    f1_score, _ = precision_recall_fscore_support(\n",
        "        binary_labels, anomalous, average='binary')\n",
        "\n",
        "\n",
        "\n",
        "test = data_converted['value'].values\n",
        "predictions = anomaly_scores.values\n",
        "\n",
        "print(\"Precision: \", precision)\n",
        "print(\"Recall: \", recall)\n",
        "print(\"F1 Score: \", f1_score)"
      ],
      "metadata": {
        "colab": {
          "base_uri": "https://localhost:8080/"
        },
        "id": "NoHF00d_6sJl",
        "outputId": "428bb42d-a35e-4000-95ef-8eb06ca3a409"
      },
      "execution_count": 5,
      "outputs": [
        {
          "output_type": "stream",
          "name": "stdout",
          "text": [
            "Epoch 1/50\n",
            "228/228 [==============================] - 2s 3ms/step - loss: 5093.5220\n",
            "Epoch 2/50\n",
            "228/228 [==============================] - 1s 6ms/step - loss: 5093.5229\n",
            "Epoch 3/50\n",
            "228/228 [==============================] - 2s 9ms/step - loss: 5093.5249\n",
            "Epoch 4/50\n",
            "228/228 [==============================] - 1s 3ms/step - loss: 5093.5239\n",
            "Epoch 5/50\n",
            "228/228 [==============================] - 1s 3ms/step - loss: 5093.5239\n",
            "Epoch 6/50\n",
            "228/228 [==============================] - 1s 3ms/step - loss: 5093.5239\n",
            "Epoch 7/50\n",
            "228/228 [==============================] - 1s 3ms/step - loss: 5093.5225\n",
            "Epoch 8/50\n",
            "228/228 [==============================] - 1s 4ms/step - loss: 5093.5249\n",
            "Epoch 9/50\n",
            "228/228 [==============================] - 1s 3ms/step - loss: 5093.5220\n",
            "Epoch 10/50\n",
            "228/228 [==============================] - 1s 4ms/step - loss: 5093.5215\n",
            "Epoch 11/50\n",
            "228/228 [==============================] - 1s 4ms/step - loss: 5093.5234\n",
            "Epoch 12/50\n",
            "228/228 [==============================] - 1s 4ms/step - loss: 5093.5220\n",
            "Epoch 13/50\n",
            "228/228 [==============================] - 1s 3ms/step - loss: 5093.5254\n",
            "Epoch 14/50\n",
            "228/228 [==============================] - 1s 3ms/step - loss: 5093.5229\n",
            "Epoch 15/50\n",
            "228/228 [==============================] - 1s 3ms/step - loss: 5093.5234\n",
            "Epoch 16/50\n",
            "228/228 [==============================] - 1s 4ms/step - loss: 5093.5264\n",
            "Epoch 17/50\n",
            "228/228 [==============================] - 1s 4ms/step - loss: 5093.5254\n",
            "Epoch 18/50\n",
            "228/228 [==============================] - 2s 8ms/step - loss: 5093.5215\n",
            "Epoch 19/50\n",
            "228/228 [==============================] - 1s 4ms/step - loss: 5093.5234\n",
            "Epoch 20/50\n",
            "228/228 [==============================] - 1s 4ms/step - loss: 5093.5229\n",
            "Epoch 21/50\n",
            "228/228 [==============================] - 1s 4ms/step - loss: 5093.5229\n",
            "Epoch 22/50\n",
            "228/228 [==============================] - 0s 1ms/step - loss: 5093.5234\n",
            "Epoch 23/50\n",
            "228/228 [==============================] - 0s 1ms/step - loss: 5093.5249\n",
            "Epoch 24/50\n",
            "228/228 [==============================] - 0s 1ms/step - loss: 5093.5239\n",
            "Epoch 25/50\n",
            "228/228 [==============================] - 0s 1ms/step - loss: 5093.5229\n",
            "Epoch 26/50\n",
            "228/228 [==============================] - 0s 1ms/step - loss: 5093.5234\n",
            "Epoch 27/50\n",
            "228/228 [==============================] - 0s 1ms/step - loss: 5093.5220\n",
            "Epoch 28/50\n",
            "228/228 [==============================] - 0s 1ms/step - loss: 5093.5225\n",
            "Epoch 29/50\n",
            "228/228 [==============================] - 0s 1ms/step - loss: 5093.5220\n",
            "Epoch 30/50\n",
            "228/228 [==============================] - 0s 1ms/step - loss: 5093.5229\n",
            "Epoch 31/50\n",
            "228/228 [==============================] - 0s 2ms/step - loss: 5093.5210\n",
            "Epoch 32/50\n",
            "228/228 [==============================] - 0s 1ms/step - loss: 5093.5239\n",
            "Epoch 33/50\n",
            "228/228 [==============================] - 0s 1ms/step - loss: 5093.5269\n",
            "Epoch 34/50\n",
            "228/228 [==============================] - 0s 2ms/step - loss: 5093.5220\n",
            "Epoch 35/50\n",
            "228/228 [==============================] - 0s 1ms/step - loss: 5093.5229\n",
            "Epoch 36/50\n",
            "228/228 [==============================] - 0s 1ms/step - loss: 5093.5225\n",
            "Epoch 37/50\n",
            "228/228 [==============================] - 0s 2ms/step - loss: 5093.5234\n",
            "Epoch 38/50\n",
            "228/228 [==============================] - 0s 2ms/step - loss: 5093.5254\n",
            "Epoch 39/50\n",
            "228/228 [==============================] - 0s 1ms/step - loss: 5093.5239\n",
            "Epoch 40/50\n",
            "228/228 [==============================] - 0s 2ms/step - loss: 5093.5239\n",
            "Epoch 41/50\n",
            "228/228 [==============================] - 0s 1ms/step - loss: 5093.5215\n",
            "Epoch 42/50\n",
            "228/228 [==============================] - 0s 1ms/step - loss: 5093.5229\n",
            "Epoch 43/50\n",
            "228/228 [==============================] - 0s 2ms/step - loss: 5093.5205\n",
            "Epoch 44/50\n",
            "228/228 [==============================] - 0s 1ms/step - loss: 5093.5249\n",
            "Epoch 45/50\n",
            "228/228 [==============================] - 1s 2ms/step - loss: 5093.5210\n",
            "Epoch 46/50\n",
            "228/228 [==============================] - 0s 2ms/step - loss: 5093.5220\n",
            "Epoch 47/50\n",
            "228/228 [==============================] - 1s 2ms/step - loss: 5093.5215\n",
            "Epoch 48/50\n",
            "228/228 [==============================] - 0s 2ms/step - loss: 5093.5264\n",
            "Epoch 49/50\n",
            "228/228 [==============================] - 0s 2ms/step - loss: 5093.5210\n",
            "Epoch 50/50\n",
            "228/228 [==============================] - 0s 2ms/step - loss: 5093.5220\n",
            "228/228 [==============================] - 0s 1ms/step\n",
            "Precision:  1.0\n",
            "Recall:  1.0\n",
            "F1 Score:  1.0\n"
          ]
        }
      ]
    },
    {
      "cell_type": "code",
      "source": [],
      "metadata": {
        "id": "OpwaJjXn6zxr"
      },
      "execution_count": null,
      "outputs": []
    }
  ]
}